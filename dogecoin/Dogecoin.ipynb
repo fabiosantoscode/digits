{
 "cells": [
  {
   "cell_type": "code",
   "execution_count": 1,
   "metadata": {},
   "outputs": [
    {
     "data": {
      "text/plain": [
       "[7.5e-07, 7.6e-07, 7.4e-07, 7.2e-07, 7.2e-07]"
      ]
     },
     "execution_count": 1,
     "metadata": {},
     "output_type": "execute_result"
    }
   ],
   "source": [
    "import json\n",
    "\n",
    "with open('data.json') as fp:\n",
    "    data = json.load(fp)\n",
    "\n",
    "data[:5]  # Close value every 30 minutes"
   ]
  },
  {
   "cell_type": "code",
   "execution_count": 2,
   "metadata": {},
   "outputs": [
    {
     "name": "stdout",
     "output_type": "stream",
     "text": [
      "groups [[1.0, 0.49999999999999944, 0.0, 0.49999999999999944], [0.9999999999999999, 0.090909090909091, 0.454545454545454, 0.090909090909091], [1.0, 0.0, 0.11111111111111124, 0.0], [1.0, 0.7142857142857139, 0.0, 0.0], [1.0, 0.14285714285714307, 0.0, 0.14285714285714307]]\n",
      "labels [0.1000000000000001, 0.0, 0.0, 0.14285714285714307, 0.0]\n"
     ]
    }
   ],
   "source": [
    "import math\n",
    "\n",
    "group_length = 10\n",
    "normalised_group_length = 4\n",
    "groups = []\n",
    "\n",
    "def normalise(group):\n",
    "    reduced = [group[0], group[5], *group[7:]]\n",
    "    mi, ma = (min(reduced), max(reduced))\n",
    "    if mi == ma:\n",
    "        return [0] * len(reduced)\n",
    "    return [\n",
    "        (val - mi) * (1 / (ma - mi))\n",
    "        for val in reduced\n",
    "    ]\n",
    "\n",
    "for group in range(len(data) - group_length):\n",
    "    groups.append(normalise(data[group:group + group_length]))\n",
    "\n",
    "xs = [g[0:normalised_group_length] for g in groups]\n",
    "ys = [g[normalised_group_length] for g in groups]\n",
    "\n",
    "print('groups', xs[:5])\n",
    "print('labels', ys[:5])"
   ]
  },
  {
   "cell_type": "code",
   "execution_count": 14,
   "metadata": {},
   "outputs": [],
   "source": [
    "from sklearn.model_selection import train_test_split as tts\n",
    "\n",
    "train_x, test_x, train_y, test_y = tts(xs, ys, test_size=100)"
   ]
  },
  {
   "cell_type": "code",
   "execution_count": 15,
   "metadata": {},
   "outputs": [],
   "source": [
    "def score(title, predict_fn):\n",
    "    correct, wrong, error = 0, 0, 0\n",
    "\n",
    "    for x, y in zip(test_x, test_y):\n",
    "        prediction = predict_fn(np.array([x]))[0] < x[-1]\n",
    "        actual = y < x[-1]\n",
    "\n",
    "        error += abs(predict_fn(np.array([x]))[0] - y) ** 2\n",
    "        correct += actual == prediction\n",
    "        wrong += actual != prediction\n",
    "\n",
    "    error /= len(test_x)\n",
    "\n",
    "    print(title + ':')\n",
    "    print('correct', int(correct), 'wrong', int(wrong), 'percentage', float(correct/len(test_x)) * 100, 'mse', float(error))"
   ]
  },
  {
   "cell_type": "code",
   "execution_count": 16,
   "metadata": {},
   "outputs": [
    {
     "name": "stdout",
     "output_type": "stream",
     "text": [
      "Epoch 1/1\n",
      "651/651 [==============================] - 0s 121us/step - loss: 0.5554\n",
      "neural net score:\n",
      "correct 69 wrong 31 percentage 69.0 mse 0.14970698952674866\n"
     ]
    }
   ],
   "source": [
    "from keras.models import Sequential\n",
    "from keras.layers import Dense\n",
    "from keras.optimizers import SGD\n",
    "\n",
    "model = Sequential([\n",
    "    Dense(normalised_group_length, input_shape=(normalised_group_length,)),\n",
    "    Dense(1),\n",
    "])\n",
    "\n",
    "model.compile(optimizer='sgd', loss='mse')\n",
    "\n",
    "import numpy as np\n",
    "model.fit(\n",
    "    x=np.array(train_x),\n",
    "    y=np.array(train_y),\n",
    "    epochs=1\n",
    ")\n",
    "\n",
    "score('neural net score', model.predict)"
   ]
  },
  {
   "cell_type": "code",
   "execution_count": 17,
   "metadata": {},
   "outputs": [
    {
     "name": "stdout",
     "output_type": "stream",
     "text": [
      "SVR score:\n",
      "correct 76 wrong 24 percentage 76.0 mse 0.09134784836094977\n"
     ]
    }
   ],
   "source": [
    "from sklearn.svm import SVR\n",
    "\n",
    "classifier = SVR(max_iter=2000)\n",
    "classifier.fit(np.array(train_x), np.array(train_y))\n",
    "\n",
    "score('SVR score', classifier.predict)"
   ]
  },
  {
   "cell_type": "code",
   "execution_count": 18,
   "metadata": {},
   "outputs": [
    {
     "name": "stdout",
     "output_type": "stream",
     "text": [
      "random forest regressor score:\n",
      "correct 84 wrong 16 percentage 84.0 mse 0.053818358337655046\n"
     ]
    }
   ],
   "source": [
    "from sklearn.ensemble import RandomForestRegressor\n",
    "\n",
    "forest_regressor = RandomForestRegressor()\n",
    "forest_regressor.fit(train_x, train_y)\n",
    "\n",
    "score('random forest regressor score', forest_regressor.predict)"
   ]
  },
  {
   "cell_type": "code",
   "execution_count": 19,
   "metadata": {
    "scrolled": false
   },
   "outputs": [
    {
     "data": {
      "text/plain": [
       "[<matplotlib.lines.Line2D at 0x7fa54be2d7b8>]"
      ]
     },
     "execution_count": 19,
     "metadata": {},
     "output_type": "execute_result"
    },
    {
     "data": {
      "image/png": "[encoded data removed]",
      "text/plain": [
       "<matplotlib.figure.Figure at 0x7fa55818b908>"
      ]
     },
     "metadata": {},
     "output_type": "display_data"
    },
    {
     "data": {
      "image/png": "[encoded data removed]",
      "text/plain": [
       "<matplotlib.figure.Figure at 0x7fa54be195f8>"
      ]
     },
     "metadata": {},
     "output_type": "display_data"
    },
    {
     "data": {
      "image/png": "[encoded data removed]",
      "text/plain": [
       "<matplotlib.figure.Figure at 0x7fa54be2ac88>"
      ]
     },
     "metadata": {},
     "output_type": "display_data"
    }
   ],
   "source": [
    "from matplotlib import pyplot as plt\n",
    "%matplotlib inline\n",
    "\n",
    "neural_error = []\n",
    "svm_error = []\n",
    "forest_error = []\n",
    "for x, y in list(zip(test_x, test_y))[:100]:\n",
    "    def error(prediction):\n",
    "        return abs(prediction - y)\n",
    "    neural_error.append(error(model.predict(np.array([x]))[0]))\n",
    "    svm_error.append(error(classifier.predict(np.array([x]))[0]))\n",
    "    forest_error.append(error(forest_regressor.predict(np.array([x]))[0]))\n",
    "\n",
    "plt.figure(1)\n",
    "plt.title('neural net error')\n",
    "plt.plot(range(100), neural_error, 'ro')\n",
    "plt.figure(2)\n",
    "plt.title('SVM error')\n",
    "plt.plot(range(100), svm_error, 'bo')\n",
    "plt.figure(3)\n",
    "plt.title('random forest error')\n",
    "plt.plot(range(100), forest_error, 'go')"
   ]
  }
 ],
 "metadata": {
  "kernelspec": {
   "display_name": "Python 3",
   "language": "python",
   "name": "python3"
  },
  "language_info": {
   "codemirror_mode": {
    "name": "ipython",
    "version": 3
   },
   "file_extension": ".py",
   "mimetype": "text/x-python",
   "name": "python",
   "nbconvert_exporter": "python",
   "pygments_lexer": "ipython3",
   "version": "3.5.2"
  }
 },
 "nbformat": 4,
 "nbformat_minor": 2
}
