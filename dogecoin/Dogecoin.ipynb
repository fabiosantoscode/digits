{
 "cells": [
  {
   "cell_type": "code",
   "execution_count": 1,
   "metadata": {
    "scrolled": false
   },
   "outputs": [
    {
     "data": {
      "text/plain": [
       "[7.8e-07, 7.8e-07, 7.7e-07, 7.7e-07, 7.8e-07]"
      ]
     },
     "execution_count": 1,
     "metadata": {},
     "output_type": "execute_result"
    }
   ],
   "source": [
    "import json\n",
    "\n",
    "with open('data.json') as fp:\n",
    "    data = json.load(fp)\n",
    "\n",
    "data[:5]  # Close value every 30 minutes"
   ]
  },
  {
   "cell_type": "code",
   "execution_count": 2,
   "metadata": {},
   "outputs": [
    {
     "name": "stdout",
     "output_type": "stream",
     "text": [
      "groups [[1.0, 0.0, 1.0, 0.0], [1.0, 0.0, 0.5, 1.0], [0.0, 1.0, 1.0, 1.0], [0.0, 0.0, 1.0, 0.0], [1.0, 1.0, 0.0, 1.0]]\n",
      "labels [1.0, 1.0, 0.0, 1.0, 0.0]\n"
     ]
    }
   ],
   "source": [
    "import math\n",
    "\n",
    "group_length = 10\n",
    "normalised_group_length = 4\n",
    "groups = []\n",
    "\n",
    "def normalise(group):\n",
    "    reduced = [group[0], group[5], *group[7:]]\n",
    "    mi, ma = (min(reduced), max(reduced))\n",
    "    if mi == ma:\n",
    "        return [0] * len(reduced)\n",
    "    return [\n",
    "        (val - mi) * (1 / (ma - mi))\n",
    "        for val in reduced\n",
    "    ]\n",
    "\n",
    "for group in range(len(data) - group_length):\n",
    "    groups.append(normalise(data[group:group + group_length]))\n",
    "\n",
    "xs = [g[0:normalised_group_length] for g in groups]\n",
    "ys = [g[normalised_group_length] for g in groups]\n",
    "\n",
    "print('groups', xs[:5])\n",
    "print('labels', ys[:5])"
   ]
  },
  {
   "cell_type": "code",
   "execution_count": 3,
   "metadata": {},
   "outputs": [],
   "source": [
    "from sklearn.model_selection import train_test_split as tts\n",
    "\n",
    "train_x, test_x, train_y, test_y = tts(xs, ys, test_size=0.10)"
   ]
  },
  {
   "cell_type": "code",
   "execution_count": 4,
   "metadata": {},
   "outputs": [
    {
     "name": "stderr",
     "output_type": "stream",
     "text": [
      "Using TensorFlow backend.\n"
     ]
    }
   ],
   "source": [
    "from keras.models import Sequential\n",
    "from keras.layers import Dense\n",
    "from keras.optimizers import SGD\n",
    "\n",
    "model = Sequential([\n",
    "    Dense(normalised_group_length, input_shape=(normalised_group_length,)),\n",
    "    Dense(1),\n",
    "])\n",
    "\n",
    "model.compile(optimizer='sgd', loss='mse')"
   ]
  },
  {
   "cell_type": "code",
   "execution_count": 5,
   "metadata": {},
   "outputs": [
    {
     "name": "stdout",
     "output_type": "stream",
     "text": [
      "Epoch 1/1\n",
      "32583/32583 [==============================] - 1s 32us/step - loss: 0.2539\n"
     ]
    },
    {
     "data": {
      "text/plain": [
       "<keras.callbacks.History at 0x7fb40fd595f8>"
      ]
     },
     "execution_count": 5,
     "metadata": {},
     "output_type": "execute_result"
    }
   ],
   "source": [
    "import numpy as np\n",
    "model.fit(\n",
    "    x=np.array(train_x),\n",
    "    y=np.array(train_y),\n",
    "    epochs=1\n",
    ")"
   ]
  },
  {
   "cell_type": "code",
   "execution_count": 6,
   "metadata": {},
   "outputs": [
    {
     "name": "stdout",
     "output_type": "stream",
     "text": [
      "neural network score\n",
      "correct [2598] wrong [1023] percentage [71.74813587] mse [0.21145713]\n"
     ]
    }
   ],
   "source": [
    "correct, wrong, error = 0, 0, 0\n",
    "\n",
    "for x, y in zip(test_x, test_y):\n",
    "    prediction = model.predict(np.array([x]))[0] < x[-1]\n",
    "    actual = y < x[-1]\n",
    "    \n",
    "    error += abs(model.predict(np.array([x]))[0] - y) ** 2\n",
    "    correct += actual == prediction\n",
    "    wrong += actual != prediction\n",
    "\n",
    "error /= len(test_x)\n",
    "    \n",
    "print('neural network score')\n",
    "print('correct', correct, 'wrong', wrong, 'percentage', (correct/len(test_x)) * 100, 'mse', error)"
   ]
  },
  {
   "cell_type": "code",
   "execution_count": 7,
   "metadata": {},
   "outputs": [
    {
     "name": "stderr",
     "output_type": "stream",
     "text": [
      "/home/fabio/devel/digits/venv/lib/python3.5/site-packages/sklearn/svm/base.py:218: ConvergenceWarning: Solver terminated early (max_iter=2000).  Consider pre-processing your data with StandardScaler or MinMaxScaler.\n",
      "  % self.max_iter, ConvergenceWarning)\n"
     ]
    },
    {
     "data": {
      "text/plain": [
       "SVR(C=1.0, cache_size=200, coef0=0.0, degree=3, epsilon=0.1, gamma='auto',\n",
       "  kernel='rbf', max_iter=2000, shrinking=True, tol=0.001, verbose=False)"
      ]
     },
     "execution_count": 7,
     "metadata": {},
     "output_type": "execute_result"
    }
   ],
   "source": [
    "from sklearn.svm import SVR\n",
    "\n",
    "classifier = SVR(max_iter=2000)\n",
    "classifier.fit(np.array(train_x), np.array(train_y))"
   ]
  },
  {
   "cell_type": "code",
   "execution_count": 8,
   "metadata": {},
   "outputs": [
    {
     "name": "stdout",
     "output_type": "stream",
     "text": [
      "support vector machine score\n",
      "correct 2618 wrong 1003 percentage 72.30046948356808 mse 0.21839926052225705\n"
     ]
    }
   ],
   "source": [
    "correct, wrong, error = 0, 0, 0\n",
    "\n",
    "for x, y in zip(test_x, test_y):\n",
    "    prediction = classifier.predict(np.array([x]))[0] < x[-1]\n",
    "    actual = y < x[-1]\n",
    "    \n",
    "    error += abs(classifier.predict(np.array([x]))[0] - y) ** 2\n",
    "    correct += actual == prediction\n",
    "    wrong += actual != prediction\n",
    "\n",
    "error /= len(test_x)\n",
    "\n",
    "print('support vector machine score')\n",
    "print('correct', correct, 'wrong', wrong, 'percentage', (correct/len(test_x)) * 100, 'mse', error)"
   ]
  },
  {
   "cell_type": "code",
   "execution_count": 9,
   "metadata": {},
   "outputs": [
    {
     "data": {
      "text/plain": [
       "[<matplotlib.lines.Line2D at 0x7fb3ed1dc5c0>]"
      ]
     },
     "execution_count": 9,
     "metadata": {},
     "output_type": "execute_result"
    },
    {
     "data": {
      "image/png": "[encoded data removed]",
      "text/plain": [
       "<matplotlib.figure.Figure at 0x7fb40c0c86a0>"
      ]
     },
     "metadata": {},
     "output_type": "display_data"
    }
   ],
   "source": [
    "from matplotlib import pyplot as plt\n",
    "%matplotlib inline\n",
    "\n",
    "svm_error = []\n",
    "neural_error = []\n",
    "for x, y in list(zip(test_x, test_y))[:100]:\n",
    "    svm_error.append(classifier.predict(np.array([x]))[0])\n",
    "    neural_error.append(model.predict(np.array([x]))[0])\n",
    "\n",
    "plt.title('blue is svm error, red is neural net error')\n",
    "plt.plot(range(100), svm_error, 'bo')\n",
    "plt.plot(range(100), neural_error, 'ro')"
   ]
  }
 ],
 "metadata": {
  "kernelspec": {
   "display_name": "Python 3",
   "language": "python",
   "name": "python3"
  },
  "language_info": {
   "codemirror_mode": {
    "name": "ipython",
    "version": 3
   },
   "file_extension": ".py",
   "mimetype": "text/x-python",
   "name": "python",
   "nbconvert_exporter": "python",
   "pygments_lexer": "ipython3",
   "version": "3.5.2"
  }
 },
 "nbformat": 4,
 "nbformat_minor": 2
}
